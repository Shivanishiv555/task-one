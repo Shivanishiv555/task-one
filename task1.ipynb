{
  "nbformat": 4,
  "nbformat_minor": 0,
  "metadata": {
    "colab": {
      "name": "task1",
      "provenance": [],
      "collapsed_sections": []
    },
    "kernelspec": {
      "name": "python3",
      "display_name": "Python 3"
    },
    "language_info": {
      "name": "python"
    }
  },
  "cells": [
    {
      "cell_type": "code",
      "metadata": {
        "id": "DV-SFikXSV1i"
      },
      "source": [
        "#1.Write a python program to convert a string to lower case"
      ],
      "execution_count": null,
      "outputs": []
    },
    {
      "cell_type": "code",
      "metadata": {
        "colab": {
          "base_uri": "https://localhost:8080/",
          "height": 35
        },
        "id": "sL70R2VPShEA",
        "outputId": "608e2508-181a-4780-fe5d-dc352afe208c"
      },
      "source": [
        "a=\"MY NAME IS SHIVANI\"\n",
        "a.lower()"
      ],
      "execution_count": null,
      "outputs": [
        {
          "output_type": "execute_result",
          "data": {
            "application/vnd.google.colaboratory.intrinsic+json": {
              "type": "string"
            },
            "text/plain": [
              "'my name is shivani'"
            ]
          },
          "metadata": {
            "tags": []
          },
          "execution_count": 1
        }
      ]
    },
    {
      "cell_type": "code",
      "metadata": {
        "id": "eJby-lnwS75n"
      },
      "source": [
        "#2.Write a python program to convert only even indexed characters to lower case "
      ],
      "execution_count": null,
      "outputs": []
    },
    {
      "cell_type": "code",
      "metadata": {
        "colab": {
          "base_uri": "https://localhost:8080/"
        },
        "id": "ImkGu6ASLpQp",
        "outputId": "5c5173fb-c199-438c-f602-bf383a4e6ae7"
      },
      "source": [
        "x=\"SHIVANI\"\n",
        "Y=x[0]+x[1:2].replace(\"H\",\"h\")+x[2]+x[3:4].replace(\"V\",\"v\")+x[4]+x[5:6].replace(\"N\",\"n\")+x[6]\n",
        "print(Y)\n"
      ],
      "execution_count": 11,
      "outputs": [
        {
          "output_type": "stream",
          "text": [
            "ShIvAnI\n"
          ],
          "name": "stdout"
        }
      ]
    },
    {
      "cell_type": "code",
      "metadata": {
        "colab": {
          "base_uri": "https://localhost:8080/"
        },
        "id": "u07vxIcNEseJ",
        "outputId": "92570903-b5a3-4e21-dbaa-caf4df11d465"
      },
      "source": [
        "#3.Write a python program to convert only ODD indexed characters to lower case \n",
        "x=\"SUJATHA\"\n",
        "Y=x[0]+x[1:2].replace(\"U\",\"u\")+x[2]+x[3:4].replace(\"A\",\"a\")+x[4]+x[5:6].replace(\"H\",\"h\")+x[6]\n",
        "print(Y)"
      ],
      "execution_count": 12,
      "outputs": [
        {
          "output_type": "stream",
          "text": [
            "SuJaThA\n"
          ],
          "name": "stdout"
        }
      ]
    },
    {
      "cell_type": "code",
      "metadata": {
        "id": "CiqMNWC4TNVL"
      },
      "source": [
        "#4.Write a python program to convert only even indexed characters to upper case "
      ],
      "execution_count": null,
      "outputs": []
    },
    {
      "cell_type": "code",
      "metadata": {
        "colab": {
          "base_uri": "https://localhost:8080/"
        },
        "id": "RvI1-RjOQnIw",
        "outputId": "aee4f091-4b79-43b8-820c-9078544c8f96"
      },
      "source": [
        "c=\"sunanda\"\n",
        "d=c[0]+c[1:2].replace(\"u\",\"U\")+c[2]+c[3:4].replace(\"a\",\"A\")+c[4]+c[5:6].replace(\"d\",\"D\")+c[6]\n",
        "print(d)"
      ],
      "execution_count": 16,
      "outputs": [
        {
          "output_type": "stream",
          "text": [
            "sUnAnDa\n"
          ],
          "name": "stdout"
        }
      ]
    },
    {
      "cell_type": "code",
      "metadata": {
        "id": "bWn4skfjTgXA"
      },
      "source": [
        "#5.Write a python program to convert only odd indexed characters to upper case "
      ],
      "execution_count": null,
      "outputs": []
    },
    {
      "cell_type": "code",
      "metadata": {
        "colab": {
          "base_uri": "https://localhost:8080/"
        },
        "id": "7bj7-aW-ZHB4",
        "outputId": "35485a34-e412-49ab-b967-bef8bdadbc46"
      },
      "source": [
        "c=\"sumedha\"\n",
        "d=c[0]+c[1:2].replace(\"u\",\"U\")+c[2]+c[3:4].replace(\"e\",\"E\")+c[4]+c[5:6].replace(\"h\",\"H\")+c[6]\n",
        "print(d)"
      ],
      "execution_count": 18,
      "outputs": [
        {
          "output_type": "stream",
          "text": [
            "sUmEdHa\n"
          ],
          "name": "stdout"
        }
      ]
    },
    {
      "cell_type": "code",
      "metadata": {
        "id": "1xTsYb5dZWw7"
      },
      "source": [
        "#6.Write a python program where you have different variable which contains your name\n",
        "#,sex,age, phone no ,fathers name and mothers name.And by using this variable create a \n",
        "#variable named bio-data where you will use all this variable"
      ],
      "execution_count": null,
      "outputs": []
    },
    {
      "cell_type": "code",
      "metadata": {
        "id": "UvYuKxqRZjh4",
        "colab": {
          "base_uri": "https://localhost:8080/"
        },
        "outputId": "9cb44e08-d999-4801-cdff-5b99d11197aa"
      },
      "source": [
        "print('Enter your name:')\n",
        "i= input()\n",
        "print('my name is, ' +i)\n",
        "print('Enter your age')\n",
        "j= input()\n",
        "print('my age is, ' +j)\n",
        "print('Enter  your phone number')\n",
        "k= input()\n",
        "print('my phone mumber is, ' +k)\n",
        "print('Enter fathers name')\n",
        "l= input()\n",
        "print('my fathers name is, ' +l)\n",
        "print('Enter mothers name')\n",
        "m= input()\n",
        "print('my mothers name is, ' +m)\n",
        "\n",
        "\n",
        "\n",
        "\n"
      ],
      "execution_count": null,
      "outputs": [
        {
          "output_type": "stream",
          "text": [
            "Enter your name:\n",
            "nikshitha\n",
            "my name is, nikshitha\n",
            "Enter your age\n",
            "21\n",
            "my age is, 21\n",
            "Enter  your phone number\n",
            "8686318632\n",
            "my phone mumber is, 8686318632\n",
            "Enter fathers name\n",
            "venkatesh\n",
            "my fathers name is, venkatesh\n",
            "Enter mothers name\n",
            "kalpana\n",
            "my mothers name is, kalpana\n"
          ],
          "name": "stdout"
        }
      ]
    },
    {
      "cell_type": "code",
      "metadata": {
        "colab": {
          "base_uri": "https://localhost:8080/"
        },
        "id": "7quNutzQ579h",
        "outputId": "3245fcd2-084d-4cbc-d43a-8594f9be3d81"
      },
      "source": [
        "biodata=print(\"my name is shivani\\nmy mobile number is 0923849\\nmy age is 21\\nmy fathers name is madhav\\nmy mothers name is sunanda\\n\")\n",
        "print(biodata)"
      ],
      "execution_count": null,
      "outputs": [
        {
          "output_type": "stream",
          "text": [
            "my name is shivani\n",
            "my mobile number is 0923849\n",
            "my age is 21\n",
            "my fathers name is madhav\n",
            "my mothers name is sunanda\n",
            "\n",
            "None\n"
          ],
          "name": "stdout"
        }
      ]
    },
    {
      "cell_type": "code",
      "metadata": {
        "id": "HrNekzeHZziZ"
      },
      "source": [
        "#7.Write a python program to count how many times “@” occurred "
      ],
      "execution_count": null,
      "outputs": []
    },
    {
      "cell_type": "code",
      "metadata": {
        "colab": {
          "base_uri": "https://localhost:8080/"
        },
        "id": "sG34m5H6Z5xQ",
        "outputId": "20914d8a-5b80-4742-cc5e-ab680eb3c70e"
      },
      "source": [
        "z=\"$hiv'$ i$ $imple\"\n",
        "z.count(\"$\")"
      ],
      "execution_count": null,
      "outputs": [
        {
          "output_type": "execute_result",
          "data": {
            "text/plain": [
              "4"
            ]
          },
          "metadata": {
            "tags": []
          },
          "execution_count": 17
        }
      ]
    },
    {
      "cell_type": "code",
      "metadata": {
        "id": "J3hg2JWaaRyn"
      },
      "source": [
        "#8.Write a python program to get only names from the string \n"
      ],
      "execution_count": null,
      "outputs": []
    },
    {
      "cell_type": "code",
      "metadata": {
        "colab": {
          "base_uri": "https://localhost:8080/"
        },
        "id": "fJ0hZ3esSel3",
        "outputId": "5f68945c-5e8a-4c01-de80-c6d25da59724"
      },
      "source": [
        "d=\"name1@gmail.com,name2@gmail.com,name3@gmail.com\"\n",
        "d.split(\"@gmail.com\")\n",
        "print(d)"
      ],
      "execution_count": 22,
      "outputs": [
        {
          "output_type": "stream",
          "text": [
            "name1@gmail.com,name2@gmail.com,name3@gmail.com\n"
          ],
          "name": "stdout"
        }
      ]
    },
    {
      "cell_type": "code",
      "metadata": {
        "id": "KxG9Hv5aaq5g"
      },
      "source": [
        "#9.Given a string of odd length greater that 9,return a new string made of the middle three characters of a given String"
      ],
      "execution_count": null,
      "outputs": []
    },
    {
      "cell_type": "code",
      "metadata": {
        "colab": {
          "base_uri": "https://localhost:8080/",
          "height": 35
        },
        "id": "NMkKJH77auzQ",
        "outputId": "89835866-000a-4df0-babc-88c815b3a107"
      },
      "source": [
        "y=\"inspirational\"\n",
        "y[5:8]"
      ],
      "execution_count": null,
      "outputs": [
        {
          "output_type": "execute_result",
          "data": {
            "application/vnd.google.colaboratory.intrinsic+json": {
              "type": "string"
            },
            "text/plain": [
              "'rat'"
            ]
          },
          "metadata": {
            "tags": []
          },
          "execution_count": 22
        }
      ]
    },
    {
      "cell_type": "code",
      "metadata": {
        "id": "WopbNsNlcp3e"
      },
      "source": [
        "#10. Write a python program to insert a 2 string in the middle of 1 string"
      ],
      "execution_count": null,
      "outputs": []
    },
    {
      "cell_type": "code",
      "metadata": {
        "colab": {
          "base_uri": "https://localhost:8080/",
          "height": 35
        },
        "id": "bTd7WkcLc73M",
        "outputId": "59fd34ed-90b0-439c-a9e0-18161b300cdf"
      },
      "source": [
        "name1=444\n",
        "name2=\"bhagavath{}geetha\"\n",
        "name2.format(name1)\n"
      ],
      "execution_count": null,
      "outputs": [
        {
          "output_type": "execute_result",
          "data": {
            "application/vnd.google.colaboratory.intrinsic+json": {
              "type": "string"
            },
            "text/plain": [
              "'bhagavath444geetha'"
            ]
          },
          "metadata": {
            "tags": []
          },
          "execution_count": 10
        }
      ]
    },
    {
      "cell_type": "code",
      "metadata": {
        "id": "YdlPpj0bECqu"
      },
      "source": [
        "#11. Write a program to remove vowels from the entire alphabets "
      ],
      "execution_count": null,
      "outputs": []
    },
    {
      "cell_type": "code",
      "metadata": {
        "colab": {
          "base_uri": "https://localhost:8080/"
        },
        "id": "c7y8dbsDEEpz",
        "outputId": "4848e27a-9cbd-42f6-cdcd-8d4fd7c6d41b"
      },
      "source": [
        "letters=(\"a b c d e f g h i j k l m n o p q r s t u v w x y z\")\n",
        "vowels = ('a', 'e', 'i', 'o', 'u')\n",
        "letters= letters.replace(x,\"\")\n",
        "print(letters)"
      ],
      "execution_count": null,
      "outputs": [
        {
          "output_type": "stream",
          "text": [
            "a b c d e f g h i j k l m n o p q r s t  v w x y z\n"
          ],
          "name": "stdout"
        }
      ]
    }
  ]
}